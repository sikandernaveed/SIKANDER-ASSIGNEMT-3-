{
 "cells": [
  {
   "cell_type": "code",
   "execution_count": null,
   "id": "fb3ad46e",
   "metadata": {},
   "outputs": [],
   "source": [
    "\n",
    "   "
   ]
  },
  {
   "cell_type": "code",
   "execution_count": null,
   "id": "bc91a4c0",
   "metadata": {},
   "outputs": [],
   "source": [
    "\n"
   ]
  },
  {
   "cell_type": "code",
   "execution_count": 57,
   "id": "9cd776fd",
   "metadata": {},
   "outputs": [
    {
     "name": "stdout",
     "output_type": "stream",
     "text": [
      "Twinkle,Twinkle little star \n",
      " \t How i wounder how you are! \n",
      "\t\t Up above this world so high, \n",
      "\t\t Like dimond in the sky. \n",
      " Twinkle,Twinkle little star \n",
      "\t How i wounder how you are\n"
     ]
    }
   ],
   "source": [
    "#1. Write a Python program to print the following string in a specific format (see theoutput).\n",
    "\"\"\"\n",
    "  Twinkle, twinkle, little star,\n",
    "           How I wonder what you are!\n",
    "                Up above the world so high,\n",
    "                Like a diamond in the sky.\n",
    "\n",
    "Twinkle, twinkle, little star,\n",
    "        How I wonder what you are\n",
    "                                       \"\"\"\n",
    "\n",
    "print(\"Twinkle,Twinkle little star \\n \\t How i wounder how you are! \\n\\t\\t Up above this world so high, \\n\\t\\t Like dimond in the sky. \\n Twinkle,Twinkle little star \\n\\t How i wounder how you are\")"
   ]
  },
  {
   "cell_type": "code",
   "execution_count": 38,
   "id": "1c0b1c3f",
   "metadata": {},
   "outputs": [
    {
     "name": "stdout",
     "output_type": "stream",
     "text": [
      "THE CURRENT VERSION IM USING IS ::  3.8.8\n"
     ]
    }
   ],
   "source": [
    "#Q2. Write a Python program to get the Python version you are using\n",
    "import platform\n",
    "print(\"THE CURRENT VERSION IM USING IS :: \",platform.python_version())"
   ]
  },
  {
   "cell_type": "code",
   "execution_count": 39,
   "id": "9b207f1b",
   "metadata": {},
   "outputs": [
    {
     "name": "stdout",
     "output_type": "stream",
     "text": [
      "THE CURRENT DATE AND TIME IS :::  2021-10-23 03:08:50.547885\n"
     ]
    }
   ],
   "source": [
    "#Q3. Write a Python program to display the current date and time.\n",
    "import datetime\n",
    "now=datetime.datetime.now()\n",
    "print(\"THE CURRENT DATE AND TIME IS ::: \",now)"
   ]
  },
  {
   "cell_type": "code",
   "execution_count": 40,
   "id": "96f4cc15",
   "metadata": {},
   "outputs": [
    {
     "name": "stdout",
     "output_type": "stream",
     "text": [
      "ENTER THE RADIOUS OF CIRCLE : 4\n",
      "THE AREA OF CIRCLE IS ::  48.0\n"
     ]
    }
   ],
   "source": [
    "#Q4. Write a Python program which accepts the radius of a circle from the user and compute the area.\n",
    "radious=float(input(\"ENTER THE RADIOUS OF CIRCLE : \"))\n",
    "pi=int(3.14)\n",
    "AREA=pi*radious**2\n",
    "print(\"THE AREA OF CIRCLE IS :: \",AREA)"
   ]
  },
  {
   "cell_type": "code",
   "execution_count": 43,
   "id": "f9d112a1",
   "metadata": {},
   "outputs": [
    {
     "name": "stdout",
     "output_type": "stream",
     "text": [
      "please enter your first name:ALI\n",
      "please enter your last name:OMER\n",
      "THE FULL NAME IS:: ALIOMER\n",
      "THE REVERSE NAME IS  OMER ALI\n"
     ]
    }
   ],
   "source": [
    "#Q5. Write a Python program which accepts the user's first and last name and print them inreverse order with a space between them.\n",
    "firstname=input(\"please enter your first name:\")\n",
    "lastname=input(\"please enter your last name:\")\n",
    "name = firstname+lastname\n",
    "print(\"THE FULL NAME IS::\", name)\n",
    "print(\"THE REVERSE NAME IS \",lastname,firstname)"
   ]
  },
  {
   "cell_type": "code",
   "execution_count": 46,
   "id": "cfc7e384",
   "metadata": {},
   "outputs": [
    {
     "name": "stdout",
     "output_type": "stream",
     "text": [
      "PLEASE ENTER THE FIRST NUMBER : 44\n",
      "PLEASE ENTER THE SECOND NUMBER : 44\n",
      "AFTER ADDITION RESULT IS ::  88\n"
     ]
    }
   ],
   "source": [
    "#Q6. Write a python program which takes two inputs from user and print them addition\n",
    "x=int(input(\"PLEASE ENTER THE FIRST NUMBER : \"))\n",
    "y=int(input(\"PLEASE ENTER THE SECOND NUMBER : \"))\n",
    "ADDITION=x+y\n",
    "print(\"AFTER ADDITION RESULT IS :: \",ADDITION)"
   ]
  },
  {
   "cell_type": "code",
   "execution_count": 50,
   "id": "3c196938",
   "metadata": {},
   "outputs": [
    {
     "name": "stdout",
     "output_type": "stream",
     "text": [
      "ENTER MARKs OF ISLAMAYAT:: 66\n",
      "ENTER MARKs OF ENGLISH:: 56\n",
      "ENTER MARKs OF MATHs:: 45\n",
      "ENTER MARKs OF PHYSICs:: 34\n",
      "ENTER MARKs OF CHYMISTORY:: 55\n",
      "TOTAL MARKS =  256\n",
      "YOU GOT 51.2 PERCENTAGE\n",
      "grade B\n"
     ]
    }
   ],
   "source": [
    "#Q7. Write a program which takes 5 inputs from user for different subject’s marks, total it and generate mark sheet using grades ?\n",
    "ISLAMAYAT=int(input(\"ENTER MARKs OF ISLAMAYAT:: \"))\n",
    "ENGLISH=int(input(\"ENTER MARKs OF ENGLISH:: \"))\n",
    "MATHS=int(input(\"ENTER MARKs OF MATHs:: \"))\n",
    "PHYSICS=int(input(\"ENTER MARKs OF PHYSICs:: \"))\n",
    "CHYMISTORY=int(input(\"ENTER MARKs OF CHYMISTORY:: \"))\n",
    "TOTAL=ISLAMAYAT+ENGLISH+MATHS+CHYMISTORY+PHYSICS\n",
    "print(\"TOTAL MARKS = \",TOTAL)\n",
    "PERCENTAGE=TOTAL*100/500\n",
    "print(\"YOU GOT\",PERCENTAGE,\"PERCENTAGE\")\n",
    "if (PERCENTAGE < 100 and PERCENTAGE > 80):\n",
    "    print(\"grade A+\")\n",
    "elif (PERCENTAGE < 80 and PERCENTAGE > 70):\n",
    "    print(\"grade A\")   \n",
    "elif (PERCENTAGE < 70 and PERCENTAGE > 60):\n",
    "    print(\"grade B+\")\n",
    "elif (PERCENTAGE < 60 and PERCENTAGE > 50):\n",
    "    print(\"grade B\")\n",
    "elif (PERCENTAGE < 50 and PERCENTAGE > 45):\n",
    "    print(\"grade C+\") \n",
    "elif (PERCENTAGE < 45 and PERCENTAGE > 30):\n",
    "    print(\"grade C\") \n",
    "elif (PERCENTAGE < 30 and PERCENTAGE > 25):\n",
    "    print(\"grade D\")\n",
    "elif (PERCENTAGE < 100 and PERCENTAGE > 101):\n",
    "    print(\"YOU ARE GENIOUS\")\n",
    "else:\n",
    "    print(\"FAIL\")"
   ]
  },
  {
   "cell_type": "code",
   "execution_count": 52,
   "id": "2ba79d75",
   "metadata": {},
   "outputs": [
    {
     "name": "stdout",
     "output_type": "stream",
     "text": [
      "PLEASE ENTER ANY NUMBER :: 2\n",
      "THE NUMEBER IS **EVEN**\n"
     ]
    }
   ],
   "source": [
    "#Q8. Write a program which take input from user and identify that the given number is even or odd?\n",
    "A=int(input(\"PLEASE ENTER ANY NUMBER :: \"))\n",
    "if (A%2 == 0):\n",
    "    print(\"THE NUMEBER IS **EVEN**\")\n",
    "elif(A%2 != 0):    \n",
    "    print(\"THE NUMEBER IS **ODD**\")"
   ]
  },
  {
   "cell_type": "code",
   "execution_count": 53,
   "id": "692ba6e0",
   "metadata": {},
   "outputs": [
    {
     "name": "stdout",
     "output_type": "stream",
     "text": [
      "The length of list is:  10\n"
     ]
    }
   ],
   "source": [
    "#Q9. Write a program which print the length of the list?\n",
    "n = len([10, 20, 30, 40, 50, 60, 70, 80, 90, 100])\n",
    "print(\"The length of list is: \", n)"
   ]
  },
  {
   "cell_type": "code",
   "execution_count": 56,
   "id": "705a1f12",
   "metadata": {},
   "outputs": [
    {
     "name": "stdout",
     "output_type": "stream",
     "text": [
      "Sum of the array is ::  34\n"
     ]
    }
   ],
   "source": [
    "#Q10.Write a Python program to sum all the numeric items in a list?\n",
    "arr = [12, 3, 4, 15] \n",
    "ans = sum(arr) \n",
    "print (\"Sum of the array is :: \" , ans) "
   ]
  },
  {
   "cell_type": "code",
   "execution_count": 58,
   "id": "cfc5335f",
   "metadata": {},
   "outputs": [
    {
     "name": "stdout",
     "output_type": "stream",
     "text": [
      "Largest number is: 1500\n"
     ]
    }
   ],
   "source": [
    "#Q11.Write a Python program to get the largest number from a numeric list.\n",
    "list1 = [10, 20, 4, 1500,100, 45, 99,113]\n",
    "print(\"Largest number is:\", max(list1))"
   ]
  },
  {
   "cell_type": "code",
   "execution_count": null,
   "id": "9feb1d8b",
   "metadata": {},
   "outputs": [],
   "source": [
    "#Q12. Take a list, say for example this one:\n",
    "\"\"\"a = [1, 1, 2, 3, 5, 8, 13, 21, 34, 55, 89]\n",
    "Write a program that prints out all the elements of the list that are less than 5.\"\"\"\n",
    "\n",
    "\n",
    "list = [1, 1, 2, 3, 5, 8, 13, 21, 34, 55, 89]\n",
    "for item in list:\n",
    " if item < 5:\n",
    "    print(item)"
   ]
  }
 ],
 "metadata": {
  "kernelspec": {
   "display_name": "Python 3",
   "language": "python",
   "name": "python3"
  },
  "language_info": {
   "codemirror_mode": {
    "name": "ipython",
    "version": 3
   },
   "file_extension": ".py",
   "mimetype": "text/x-python",
   "name": "python",
   "nbconvert_exporter": "python",
   "pygments_lexer": "ipython3",
   "version": "3.8.8"
  }
 },
 "nbformat": 4,
 "nbformat_minor": 5
}
